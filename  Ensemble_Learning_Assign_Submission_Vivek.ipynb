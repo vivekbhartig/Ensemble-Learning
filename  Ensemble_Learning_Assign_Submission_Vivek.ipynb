{
 "cells": [
  {
   "cell_type": "markdown",
   "metadata": {},
   "source": [
    "# Ensemble_Learning_Assign_Submission_Vivek\n"
   ]
  },
  {
   "cell_type": "code",
   "execution_count": 1,
   "metadata": {},
   "outputs": [
    {
     "name": "stdout",
     "output_type": "stream",
     "text": [
      "Model accuracy: 1.0000\n"
     ]
    }
   ],
   "source": [
    "# Train a Bagging Classifier using Decision Trees on a sample dataset and print model accuracy.\n",
    "from sklearn.datasets import load_iris\n",
    "from sklearn.model_selection import train_test_split\n",
    "from sklearn.tree import DecisionTreeClassifier\n",
    "from sklearn.ensemble import BaggingClassifier\n",
    "from sklearn.metrics import accuracy_score\n",
    "\n",
    "# Load sample dataset\n",
    "iris = load_iris()\n",
    "X, y = iris.data, iris.target\n",
    "\n",
    "# Split into train and test sets\n",
    "X_train, X_test, y_train, y_test = train_test_split(X, y, test_size=0.3, random_state=42)\n",
    "\n",
    "# Base estimator: Decision Tree\n",
    "base_estimator = DecisionTreeClassifier()\n",
    "\n",
    "# Bagging Classifier with Decision Trees\n",
    "bagging_clf = BaggingClassifier(base_estimator=base_estimator, n_estimators=50, random_state=42)\n",
    "\n",
    "# Train the model\n",
    "bagging_clf.fit(X_train, y_train)\n",
    "\n",
    "# Predict on test set\n",
    "y_pred = bagging_clf.predict(X_test)\n",
    "\n",
    "# Calculate accuracy\n",
    "accuracy = accuracy_score(y_test, y_pred)\n",
    "print(f\"Model accuracy: {accuracy:.4f}\")\n"
   ]
  },
  {
   "cell_type": "code",
   "execution_count": 2,
   "metadata": {},
   "outputs": [
    {
     "name": "stdout",
     "output_type": "stream",
     "text": [
      "Mean Squared Error: 0.2572\n"
     ]
    }
   ],
   "source": [
    "# Train a Bagging Regressor using Decision Trees and evaluate using Mean Squared Error (MSE)\n",
    "from sklearn.datasets import fetch_california_housing\n",
    "from sklearn.model_selection import train_test_split\n",
    "from sklearn.tree import DecisionTreeRegressor\n",
    "from sklearn.ensemble import BaggingRegressor\n",
    "from sklearn.metrics import mean_squared_error\n",
    "\n",
    "# Load a regression dataset\n",
    "data = fetch_california_housing()\n",
    "X, y = data.data, data.target\n",
    "\n",
    "# Split data into training and testing sets\n",
    "X_train, X_test, y_train, y_test = train_test_split(X, y, test_size=0.3, random_state=42)\n",
    "\n",
    "# Base estimator: Decision Tree Regressor\n",
    "base_estimator = DecisionTreeRegressor()\n",
    "\n",
    "# Bagging Regressor with Decision Trees\n",
    "bagging_regressor = BaggingRegressor(base_estimator=base_estimator, n_estimators=50, random_state=42)\n",
    "\n",
    "# Train the model\n",
    "bagging_regressor.fit(X_train, y_train)\n",
    "\n",
    "# Predict on test set\n",
    "y_pred = bagging_regressor.predict(X_test)\n",
    "\n",
    "# Calculate Mean Squared Error\n",
    "mse = mean_squared_error(y_test, y_pred)\n",
    "print(f\"Mean Squared Error: {mse:.4f}\")\n"
   ]
  },
  {
   "cell_type": "code",
   "execution_count": 3,
   "metadata": {},
   "outputs": [
    {
     "name": "stdout",
     "output_type": "stream",
     "text": [
      "mean radius: 0.0323\n",
      "mean texture: 0.0111\n",
      "mean perimeter: 0.0601\n",
      "mean area: 0.0538\n",
      "mean smoothness: 0.0062\n",
      "mean compactness: 0.0092\n",
      "mean concavity: 0.0806\n",
      "mean concave points: 0.1419\n",
      "mean symmetry: 0.0033\n",
      "mean fractal dimension: 0.0031\n",
      "radius error: 0.0164\n",
      "texture error: 0.0032\n",
      "perimeter error: 0.0118\n",
      "area error: 0.0295\n",
      "smoothness error: 0.0059\n",
      "compactness error: 0.0046\n",
      "concavity error: 0.0058\n",
      "concave points error: 0.0034\n",
      "symmetry error: 0.0040\n",
      "fractal dimension error: 0.0071\n",
      "worst radius: 0.0780\n",
      "worst texture: 0.0188\n",
      "worst perimeter: 0.0743\n",
      "worst area: 0.1182\n",
      "worst smoothness: 0.0118\n",
      "worst compactness: 0.0175\n",
      "worst concavity: 0.0411\n",
      "worst concave points: 0.1271\n",
      "worst symmetry: 0.0129\n",
      "worst fractal dimension: 0.0069\n"
     ]
    }
   ],
   "source": [
    "# Train a Random Forest Classifier on the Breast Cancer dataset and print feature importance scores.\n",
    "from sklearn.datasets import load_breast_cancer\n",
    "from sklearn.model_selection import train_test_split\n",
    "from sklearn.ensemble import RandomForestClassifier\n",
    "\n",
    "# Load the breast cancer dataset\n",
    "data = load_breast_cancer()\n",
    "X, y = data.data, data.target\n",
    "feature_names = data.feature_names\n",
    "\n",
    "# Split into train and test sets\n",
    "X_train, X_test, y_train, y_test = train_test_split(X, y, test_size=0.3, random_state=42)\n",
    "\n",
    "# Initialize Random Forest Classifier\n",
    "rf_clf = RandomForestClassifier(n_estimators=100, random_state=42)\n",
    "\n",
    "# Train the model\n",
    "rf_clf.fit(X_train, y_train)\n",
    "\n",
    "# Get feature importances\n",
    "importances = rf_clf.feature_importances_\n",
    "\n",
    "# Print feature importance scores with feature names\n",
    "for feature, importance in zip(feature_names, importances):\n",
    "    print(f\"{feature}: {importance:.4f}\")\n"
   ]
  },
  {
   "cell_type": "code",
   "execution_count": 4,
   "metadata": {},
   "outputs": [
    {
     "name": "stdout",
     "output_type": "stream",
     "text": [
      "Decision Tree MSE: 0.5244\n",
      "Random Forest MSE: 0.2568\n"
     ]
    }
   ],
   "source": [
    "# Train a Random Forest Regressor and compare its performance with a single Decision Tree.\n",
    "from sklearn.datasets import fetch_california_housing\n",
    "from sklearn.model_selection import train_test_split\n",
    "from sklearn.tree import DecisionTreeRegressor\n",
    "from sklearn.ensemble import RandomForestRegressor\n",
    "from sklearn.metrics import mean_squared_error\n",
    "\n",
    "# Load dataset\n",
    "data = fetch_california_housing()\n",
    "X, y = data.data, data.target\n",
    "\n",
    "# Split data into train and test sets\n",
    "X_train, X_test, y_train, y_test = train_test_split(X, y, test_size=0.3, random_state=42)\n",
    "\n",
    "# Initialize models\n",
    "dt_regressor = DecisionTreeRegressor(random_state=42)\n",
    "rf_regressor = RandomForestRegressor(n_estimators=100, random_state=42)\n",
    "\n",
    "# Train Decision Tree\n",
    "dt_regressor.fit(X_train, y_train)\n",
    "\n",
    "# Train Random Forest\n",
    "rf_regressor.fit(X_train, y_train)\n",
    "\n",
    "# Predict on test set\n",
    "y_pred_dt = dt_regressor.predict(X_test)\n",
    "y_pred_rf = rf_regressor.predict(X_test)\n",
    "\n",
    "# Calculate MSE for both models\n",
    "mse_dt = mean_squared_error(y_test, y_pred_dt)\n",
    "mse_rf = mean_squared_error(y_test, y_pred_rf)\n",
    "\n",
    "print(f\"Decision Tree MSE: {mse_dt:.4f}\")\n",
    "print(f\"Random Forest MSE: {mse_rf:.4f}\")\n"
   ]
  },
  {
   "cell_type": "code",
   "execution_count": 5,
   "metadata": {},
   "outputs": [
    {
     "name": "stdout",
     "output_type": "stream",
     "text": [
      "OOB Score: 0.9548\n"
     ]
    }
   ],
   "source": [
    "# Compute the Out-of-Bag (OOB) Score for a Random Forest Classifier.\n",
    "from sklearn.datasets import load_breast_cancer\n",
    "from sklearn.ensemble import RandomForestClassifier\n",
    "from sklearn.model_selection import train_test_split\n",
    "\n",
    "# Load data\n",
    "data = load_breast_cancer()\n",
    "X, y = data.data, data.target\n",
    "\n",
    "# Split data (optional, since OOB uses training samples only)\n",
    "X_train, X_test, y_train, y_test = train_test_split(X, y, test_size=0.3, random_state=42)\n",
    "\n",
    "# Initialize Random Forest with OOB enabled\n",
    "rf_clf = RandomForestClassifier(n_estimators=100, oob_score=True, random_state=42)\n",
    "\n",
    "# Train the model\n",
    "rf_clf.fit(X_train, y_train)\n",
    "\n",
    "# Print OOB score\n",
    "print(f\"OOB Score: {rf_clf.oob_score_:.4f}\")\n"
   ]
  },
  {
   "cell_type": "code",
   "execution_count": 6,
   "metadata": {},
   "outputs": [
    {
     "name": "stdout",
     "output_type": "stream",
     "text": [
      "Bagging Classifier Accuracy with SVM base estimators: 1.0000\n"
     ]
    }
   ],
   "source": [
    "# Train a Bagging Classifier using SVM as a base estimator and print accuracy.\n",
    "from sklearn.datasets import load_iris\n",
    "from sklearn.model_selection import train_test_split\n",
    "from sklearn.svm import SVC\n",
    "from sklearn.ensemble import BaggingClassifier\n",
    "from sklearn.metrics import accuracy_score\n",
    "\n",
    "# Load dataset\n",
    "iris = load_iris()\n",
    "X, y = iris.data, iris.target\n",
    "\n",
    "# Split into train and test\n",
    "X_train, X_test, y_train, y_test = train_test_split(X, y, test_size=0.3, random_state=42)\n",
    "\n",
    "# Base estimator: SVM classifier (with probability=True for bagging compatibility)\n",
    "base_svm = SVC(probability=True, kernel='rbf', random_state=42)\n",
    "\n",
    "# Bagging Classifier with SVM base estimators\n",
    "bagging_svm = BaggingClassifier(base_estimator=base_svm, n_estimators=10, random_state=42)\n",
    "\n",
    "# Train the bagging classifier\n",
    "bagging_svm.fit(X_train, y_train)\n",
    "\n",
    "# Predict on test set\n",
    "y_pred = bagging_svm.predict(X_test)\n",
    "\n",
    "# Calculate accuracy\n",
    "accuracy = accuracy_score(y_test, y_pred)\n",
    "print(f\"Bagging Classifier Accuracy with SVM base estimators: {accuracy:.4f}\")\n"
   ]
  },
  {
   "cell_type": "code",
   "execution_count": 7,
   "metadata": {},
   "outputs": [
    {
     "name": "stdout",
     "output_type": "stream",
     "text": [
      "Number of Trees | Test Accuracy\n",
      "----------------|--------------\n",
      "1               | 0.9474\n",
      "5               | 0.9649\n",
      "10              | 0.9649\n",
      "50              | 0.9708\n",
      "100             | 0.9708\n",
      "200             | 0.9708\n"
     ]
    }
   ],
   "source": [
    "# Train a Random Forest Classifier with different numbers of trees and compare accuracy.\n",
    "from sklearn.datasets import load_breast_cancer\n",
    "from sklearn.model_selection import train_test_split\n",
    "from sklearn.ensemble import RandomForestClassifier\n",
    "from sklearn.metrics import accuracy_score\n",
    "\n",
    "# Load dataset\n",
    "data = load_breast_cancer()\n",
    "X, y = data.data, data.target\n",
    "\n",
    "# Split data\n",
    "X_train, X_test, y_train, y_test = train_test_split(X, y, test_size=0.3, random_state=42)\n",
    "\n",
    "# Different numbers of trees to try\n",
    "n_trees_list = [1, 5, 10, 50, 100, 200]\n",
    "\n",
    "print(\"Number of Trees | Test Accuracy\")\n",
    "print(\"----------------|--------------\")\n",
    "\n",
    "for n_trees in n_trees_list:\n",
    "    rf_clf = RandomForestClassifier(n_estimators=n_trees, random_state=42)\n",
    "    rf_clf.fit(X_train, y_train)\n",
    "    y_pred = rf_clf.predict(X_test)\n",
    "    accuracy = accuracy_score(y_test, y_pred)\n",
    "    print(f\"{n_trees:<15} | {accuracy:.4f}\")\n"
   ]
  },
  {
   "cell_type": "code",
   "execution_count": 27,
   "metadata": {},
   "outputs": [
    {
     "name": "stdout",
     "output_type": "stream",
     "text": [
      "AUC score: 0.9982\n"
     ]
    }
   ],
   "source": [
    "# Train a Bagging Classifier using Logistic Regression as a base estimator and print AUC score.\n",
    "from sklearn.datasets import load_breast_cancer\n",
    "from sklearn.model_selection import train_test_split\n",
    "from sklearn.linear_model import LogisticRegression\n",
    "from sklearn.ensemble import BaggingClassifier\n",
    "from sklearn.metrics import roc_auc_score\n",
    "from sklearn.preprocessing import StandardScaler\n",
    "from sklearn.pipeline import make_pipeline\n",
    "\n",
    "# Load dataset\n",
    "data = load_breast_cancer()\n",
    "X, y = data.data, data.target\n",
    "\n",
    "# Split data\n",
    "X_train, X_test, y_train, y_test = train_test_split(X, y, test_size=0.3, random_state=42)\n",
    "\n",
    "# Create a pipeline: StandardScaler + LogisticRegression\n",
    "base_lr_pipeline = make_pipeline(\n",
    "    StandardScaler(),\n",
    "    LogisticRegression(max_iter=5000, solver='lbfgs', random_state=42)\n",
    ")\n",
    "\n",
    "# Bagging Classifier using the pipeline as the base estimator\n",
    "bagging_clf = BaggingClassifier(base_estimator=base_lr_pipeline, n_estimators=50, random_state=42)\n",
    "\n",
    "# Train the model\n",
    "bagging_clf.fit(X_train, y_train)\n",
    "\n",
    "# Predict probabilities of positive class\n",
    "y_pred_proba = bagging_clf.predict_proba(X_test)[:, 1]\n",
    "\n",
    "# Compute AUC\n",
    "auc_score = roc_auc_score(y_test, y_pred_proba)\n",
    "print(f\"AUC score: {auc_score:.4f}\")\n",
    "\n"
   ]
  },
  {
   "cell_type": "code",
   "execution_count": 9,
   "metadata": {},
   "outputs": [
    {
     "name": "stdout",
     "output_type": "stream",
     "text": [
      "Feature Importances:\n",
      "MedInc: 0.5260\n",
      "HouseAge: 0.0547\n",
      "AveRooms: 0.0473\n",
      "AveBedrms: 0.0300\n",
      "Population: 0.0318\n",
      "AveOccup: 0.1382\n",
      "Latitude: 0.0860\n",
      "Longitude: 0.0859\n"
     ]
    }
   ],
   "source": [
    "# Train a Random Forest Regressor and analyze feature importance scores.\n",
    "from sklearn.datasets import fetch_california_housing\n",
    "from sklearn.model_selection import train_test_split\n",
    "from sklearn.ensemble import RandomForestRegressor\n",
    "\n",
    "# Load dataset\n",
    "data = fetch_california_housing()\n",
    "X, y = data.data, data.target\n",
    "feature_names = data.feature_names\n",
    "\n",
    "# Split data\n",
    "X_train, X_test, y_train, y_test = train_test_split(X, y, test_size=0.3, random_state=42)\n",
    "\n",
    "# Initialize and train Random Forest Regressor\n",
    "rf_regressor = RandomForestRegressor(n_estimators=100, random_state=42)\n",
    "rf_regressor.fit(X_train, y_train)\n",
    "\n",
    "# Get feature importances\n",
    "importances = rf_regressor.feature_importances_\n",
    "\n",
    "# Print feature importance scores\n",
    "print(\"Feature Importances:\")\n",
    "for feature, importance in zip(feature_names, importances):\n",
    "    print(f\"{feature}: {importance:.4f}\")\n"
   ]
  },
  {
   "cell_type": "code",
   "execution_count": 10,
   "metadata": {},
   "outputs": [
    {
     "name": "stdout",
     "output_type": "stream",
     "text": [
      "Bagging Classifier Accuracy: 0.9591\n",
      "Random Forest Classifier Accuracy: 0.9708\n"
     ]
    }
   ],
   "source": [
    "# Train an ensemble model using both Bagging and Random Forest and compare accuracy.\n",
    "from sklearn.datasets import load_breast_cancer\n",
    "from sklearn.model_selection import train_test_split\n",
    "from sklearn.tree import DecisionTreeClassifier\n",
    "from sklearn.ensemble import BaggingClassifier, RandomForestClassifier\n",
    "from sklearn.metrics import accuracy_score\n",
    "\n",
    "# Load dataset\n",
    "data = load_breast_cancer()\n",
    "X, y = data.data, data.target\n",
    "\n",
    "# Split data (70% train, 30% test)\n",
    "X_train, X_test, y_train, y_test = train_test_split(X, y, test_size=0.3, random_state=42)\n",
    "\n",
    "# Bagging with Decision Trees\n",
    "bagging_clf = BaggingClassifier(\n",
    "    base_estimator=DecisionTreeClassifier(),\n",
    "    n_estimators=100,\n",
    "    random_state=42\n",
    ")\n",
    "bagging_clf.fit(X_train, y_train)\n",
    "y_pred_bagging = bagging_clf.predict(X_test)\n",
    "acc_bagging = accuracy_score(y_test, y_pred_bagging)\n",
    "\n",
    "# Random Forest Classifier\n",
    "rf_clf = RandomForestClassifier(n_estimators=100, random_state=42)\n",
    "rf_clf.fit(X_train, y_train)\n",
    "y_pred_rf = rf_clf.predict(X_test)\n",
    "acc_rf = accuracy_score(y_test, y_pred_rf)\n",
    "\n",
    "# Print comparison\n",
    "print(f\"Bagging Classifier Accuracy: {acc_bagging:.4f}\")\n",
    "print(f\"Random Forest Classifier Accuracy: {acc_rf:.4f}\")\n"
   ]
  },
  {
   "cell_type": "code",
   "execution_count": 11,
   "metadata": {},
   "outputs": [
    {
     "name": "stdout",
     "output_type": "stream",
     "text": [
      "Fitting 5 folds for each of 216 candidates, totalling 1080 fits\n"
     ]
    },
    {
     "name": "stderr",
     "output_type": "stream",
     "text": [
      "[Parallel(n_jobs=-1)]: Using backend LokyBackend with 4 concurrent workers.\n",
      "[Parallel(n_jobs=-1)]: Done  42 tasks      | elapsed:    6.8s\n",
      "[Parallel(n_jobs=-1)]: Done 192 tasks      | elapsed:   21.7s\n",
      "[Parallel(n_jobs=-1)]: Done 442 tasks      | elapsed:   45.1s\n",
      "[Parallel(n_jobs=-1)]: Done 792 tasks      | elapsed:  1.3min\n",
      "[Parallel(n_jobs=-1)]: Done 1080 out of 1080 | elapsed:  1.8min finished\n"
     ]
    },
    {
     "name": "stdout",
     "output_type": "stream",
     "text": [
      "Best hyperparameters: {'bootstrap': False, 'max_depth': None, 'min_samples_leaf': 2, 'min_samples_split': 5, 'n_estimators': 200}\n",
      "Test set accuracy with best RF: 0.9649\n"
     ]
    }
   ],
   "source": [
    "# Train a Random Forest Classifier and tune hyperparameters using GridSearchCV.\n",
    "from sklearn.datasets import load_breast_cancer\n",
    "from sklearn.model_selection import train_test_split, GridSearchCV\n",
    "from sklearn.ensemble import RandomForestClassifier\n",
    "from sklearn.metrics import accuracy_score\n",
    "\n",
    "# Load data\n",
    "data = load_breast_cancer()\n",
    "X, y = data.data, data.target\n",
    "\n",
    "# Split data\n",
    "X_train, X_test, y_train, y_test = train_test_split(X, y, test_size=0.3, random_state=42)\n",
    "\n",
    "# Initialize Random Forest classifier\n",
    "rf = RandomForestClassifier(random_state=42)\n",
    "\n",
    "# Define hyperparameter grid to search\n",
    "param_grid = {\n",
    "    'n_estimators': [50, 100, 200],          # number of trees\n",
    "    'max_depth': [None, 10, 20, 30],         # max depth of each tree\n",
    "    'min_samples_split': [2, 5, 10],         # minimum samples to split an internal node\n",
    "    'min_samples_leaf': [1, 2, 4],           # minimum samples at leaf node\n",
    "    'bootstrap': [True, False]                # whether bootstrap samples are used\n",
    "}\n",
    "\n",
    "# Setup GridSearchCV\n",
    "grid_search = GridSearchCV(\n",
    "    estimator=rf,\n",
    "    param_grid=param_grid,\n",
    "    cv=5,                 # 5-fold cross-validation\n",
    "    n_jobs=-1,            # use all processors\n",
    "    verbose=1             # print progress\n",
    ")\n",
    "\n",
    "# Run grid search on training data\n",
    "grid_search.fit(X_train, y_train)\n",
    "\n",
    "# Best hyperparameters found\n",
    "print(\"Best hyperparameters:\", grid_search.best_params_)\n",
    "\n",
    "# Evaluate on test set with best estimator\n",
    "best_rf = grid_search.best_estimator_\n",
    "y_pred = best_rf.predict(X_test)\n",
    "accuracy = accuracy_score(y_test, y_pred)\n",
    "print(f\"Test set accuracy with best RF: {accuracy:.4f}\")\n"
   ]
  },
  {
   "cell_type": "code",
   "execution_count": 12,
   "metadata": {},
   "outputs": [
    {
     "name": "stdout",
     "output_type": "stream",
     "text": [
      "Number of Estimators | Test MSE\n",
      "---------------------|----------\n",
      "1                    | 0.5444\n",
      "5                    | 0.3086\n",
      "10                   | 0.2815\n",
      "25                   | 0.2635\n",
      "50                   | 0.2572\n",
      "100                  | 0.2564\n"
     ]
    }
   ],
   "source": [
    "# Train a Bagging Regressor with different numbers of base estimators and compare performance.\n",
    "from sklearn.datasets import fetch_california_housing\n",
    "from sklearn.model_selection import train_test_split\n",
    "from sklearn.tree import DecisionTreeRegressor\n",
    "from sklearn.ensemble import BaggingRegressor\n",
    "from sklearn.metrics import mean_squared_error\n",
    "\n",
    "# Load dataset\n",
    "data = fetch_california_housing()\n",
    "X, y = data.data, data.target\n",
    "\n",
    "# Split data\n",
    "X_train, X_test, y_train, y_test = train_test_split(X, y, test_size=0.3, random_state=42)\n",
    "\n",
    "# Different numbers of base estimators to try\n",
    "n_estimators_list = [1, 5, 10, 25, 50, 100]\n",
    "\n",
    "print(\"Number of Estimators | Test MSE\")\n",
    "print(\"---------------------|----------\")\n",
    "\n",
    "for n_estimators in n_estimators_list:\n",
    "    bagging_reg = BaggingRegressor(\n",
    "        base_estimator=DecisionTreeRegressor(),\n",
    "        n_estimators=n_estimators,\n",
    "        random_state=42\n",
    "    )\n",
    "    bagging_reg.fit(X_train, y_train)\n",
    "    y_pred = bagging_reg.predict(X_test)\n",
    "    mse = mean_squared_error(y_test, y_pred)\n",
    "    print(f\"{n_estimators:<20} | {mse:.4f}\")\n"
   ]
  },
  {
   "cell_type": "code",
   "execution_count": 13,
   "metadata": {},
   "outputs": [
    {
     "name": "stdout",
     "output_type": "stream",
     "text": [
      "Test Accuracy: 0.9708\n",
      "\n",
      "Number of misclassified samples: 5\n",
      "Misclassified sample details (index in test set, true label, predicted label):\n",
      "Index: 8, True: 1, Predicted: 0\n",
      "Index: 20, True: 0, Predicted: 1\n",
      "Index: 77, True: 0, Predicted: 1\n",
      "Index: 82, True: 0, Predicted: 1\n",
      "Index: 164, True: 0, Predicted: 1\n"
     ]
    }
   ],
   "source": [
    "# Train a Random Forest Classifier and analyze misclassified samples.\n",
    "from sklearn.datasets import load_breast_cancer\n",
    "from sklearn.model_selection import train_test_split\n",
    "from sklearn.ensemble import RandomForestClassifier\n",
    "from sklearn.metrics import accuracy_score\n",
    "\n",
    "# Load dataset\n",
    "data = load_breast_cancer()\n",
    "X, y = data.data, data.target\n",
    "\n",
    "# Split data\n",
    "X_train, X_test, y_train, y_test = train_test_split(X, y, test_size=0.3, random_state=42)\n",
    "\n",
    "# Train Random Forest Classifier\n",
    "rf_clf = RandomForestClassifier(n_estimators=100, random_state=42)\n",
    "rf_clf.fit(X_train, y_train)\n",
    "\n",
    "# Predict on test set\n",
    "y_pred = rf_clf.predict(X_test)\n",
    "\n",
    "# Calculate accuracy\n",
    "accuracy = accuracy_score(y_test, y_pred)\n",
    "print(f\"Test Accuracy: {accuracy:.4f}\")\n",
    "\n",
    "# Identify misclassified samples\n",
    "misclassified_indices = [i for i, (true, pred) in enumerate(zip(y_test, y_pred)) if true != pred]\n",
    "\n",
    "print(f\"\\nNumber of misclassified samples: {len(misclassified_indices)}\")\n",
    "print(\"Misclassified sample details (index in test set, true label, predicted label):\")\n",
    "for idx in misclassified_indices:\n",
    "    print(f\"Index: {idx}, True: {y_test[idx]}, Predicted: {y_pred[idx]}\")\n"
   ]
  },
  {
   "cell_type": "code",
   "execution_count": 14,
   "metadata": {},
   "outputs": [
    {
     "name": "stdout",
     "output_type": "stream",
     "text": [
      "Decision Tree Accuracy: 0.9415\n",
      "Bagging Classifier Accuracy: 0.9591\n"
     ]
    }
   ],
   "source": [
    "# Train a Bagging Classifier and compare its performance with a single Decision Tree Classifier\n",
    "from sklearn.datasets import load_breast_cancer\n",
    "from sklearn.model_selection import train_test_split\n",
    "from sklearn.tree import DecisionTreeClassifier\n",
    "from sklearn.ensemble import BaggingClassifier\n",
    "from sklearn.metrics import accuracy_score\n",
    "\n",
    "# Load dataset\n",
    "data = load_breast_cancer()\n",
    "X, y = data.data, data.target\n",
    "\n",
    "# Split into train/test\n",
    "X_train, X_test, y_train, y_test = train_test_split(X, y, test_size=0.3, random_state=42)\n",
    "\n",
    "# Single Decision Tree\n",
    "dt_clf = DecisionTreeClassifier(random_state=42)\n",
    "dt_clf.fit(X_train, y_train)\n",
    "y_pred_dt = dt_clf.predict(X_test)\n",
    "acc_dt = accuracy_score(y_test, y_pred_dt)\n",
    "\n",
    "# Bagging Classifier with Decision Trees\n",
    "bagging_clf = BaggingClassifier(\n",
    "    base_estimator=DecisionTreeClassifier(),\n",
    "    n_estimators=50,\n",
    "    random_state=42\n",
    ")\n",
    "bagging_clf.fit(X_train, y_train)\n",
    "y_pred_bagging = bagging_clf.predict(X_test)\n",
    "acc_bagging = accuracy_score(y_test, y_pred_bagging)\n",
    "\n",
    "print(f\"Decision Tree Accuracy: {acc_dt:.4f}\")\n",
    "print(f\"Bagging Classifier Accuracy: {acc_bagging:.4f}\")\n"
   ]
  },
  {
   "cell_type": "code",
   "execution_count": 15,
   "metadata": {},
   "outputs": [
    {
     "data": {
      "image/png": "[encoded data removed]",
      "text/plain": [
       "<Figure size 432x360 with 2 Axes>"
      ]
     },
     "metadata": {
      "needs_background": "light"
     },
     "output_type": "display_data"
    }
   ],
   "source": [
    "# Train a Random Forest Classifier and visualize the confusion matrix.\n",
    "import matplotlib.pyplot as plt\n",
    "import seaborn as sns\n",
    "from sklearn.datasets import load_breast_cancer\n",
    "from sklearn.model_selection import train_test_split\n",
    "from sklearn.ensemble import RandomForestClassifier\n",
    "from sklearn.metrics import confusion_matrix, ConfusionMatrixDisplay\n",
    "\n",
    "# Load dataset\n",
    "data = load_breast_cancer()\n",
    "X, y = data.data, data.target\n",
    "\n",
    "# Split data into train/test\n",
    "X_train, X_test, y_train, y_test = train_test_split(X, y, test_size=0.3, random_state=42)\n",
    "\n",
    "# Train Random Forest Classifier\n",
    "rf_clf = RandomForestClassifier(n_estimators=100, random_state=42)\n",
    "rf_clf.fit(X_train, y_train)\n",
    "\n",
    "# Predict on test set\n",
    "y_pred = rf_clf.predict(X_test)\n",
    "\n",
    "# Compute confusion matrix\n",
    "cm = confusion_matrix(y_test, y_pred)\n",
    "class_names = data.target_names\n",
    "\n",
    "# Plot confusion matrix with seaborn heatmap\n",
    "plt.figure(figsize=(6,5))\n",
    "sns.heatmap(cm, annot=True, fmt='d', cmap='Blues',\n",
    "            xticklabels=class_names,\n",
    "            yticklabels=class_names)\n",
    "plt.xlabel('Predicted Label')\n",
    "plt.ylabel('True Label')\n",
    "plt.title('Confusion Matrix - Random Forest Classifier')\n",
    "plt.show()\n"
   ]
  },
  {
   "cell_type": "code",
   "execution_count": null,
   "metadata": {},
   "outputs": [],
   "source": [
    "# Train a Stacking Classifier using Decision Trees, SVM, and Logistic Regression, and compare accuracy.\n"
   ]
  },
  {
   "cell_type": "code",
   "execution_count": 16,
   "metadata": {},
   "outputs": [
    {
     "name": "stdout",
     "output_type": "stream",
     "text": [
      "Top 5 Important Features:\n",
      "mean concave points: 0.1419\n",
      "worst concave points: 0.1271\n",
      "worst area: 0.1182\n",
      "mean concavity: 0.0806\n",
      "worst radius: 0.0780\n"
     ]
    }
   ],
   "source": [
    "# Train a Random Forest Classifier and print the top 5 most important features.\n",
    "from sklearn.datasets import load_breast_cancer\n",
    "from sklearn.model_selection import train_test_split\n",
    "from sklearn.ensemble import RandomForestClassifier\n",
    "\n",
    "# Load data\n",
    "data = load_breast_cancer()\n",
    "X, y = data.data, data.target\n",
    "feature_names = data.feature_names\n",
    "\n",
    "# Split data\n",
    "X_train, X_test, y_train, y_test = train_test_split(X, y, test_size=0.3, random_state=42)\n",
    "\n",
    "# Train Random Forest Classifier\n",
    "rf = RandomForestClassifier(n_estimators=100, random_state=42)\n",
    "rf.fit(X_train, y_train)\n",
    "\n",
    "# Get feature importances\n",
    "importances = rf.feature_importances_\n",
    "\n",
    "# Pair features with their importance and sort by importance descending\n",
    "feat_imp = sorted(zip(feature_names, importances), key=lambda x: x[1], reverse=True)\n",
    "\n",
    "# Print top 5 features\n",
    "print(\"Top 5 Important Features:\")\n",
    "for feature, importance in feat_imp[:5]:\n",
    "    print(f\"{feature}: {importance:.4f}\")\n"
   ]
  },
  {
   "cell_type": "code",
   "execution_count": 17,
   "metadata": {},
   "outputs": [
    {
     "name": "stdout",
     "output_type": "stream",
     "text": [
      "Precision: 0.9633\n",
      "Recall:    0.9722\n",
      "F1-score:  0.9677\n"
     ]
    }
   ],
   "source": [
    "# Train a Bagging Classifier and evaluate performance using Precision, Recall, and F1-score.\n",
    "from sklearn.datasets import load_breast_cancer\n",
    "from sklearn.model_selection import train_test_split\n",
    "from sklearn.ensemble import BaggingClassifier\n",
    "from sklearn.tree import DecisionTreeClassifier\n",
    "from sklearn.metrics import precision_score, recall_score, f1_score\n",
    "\n",
    "# Load dataset\n",
    "data = load_breast_cancer()\n",
    "X, y = data.data, data.target\n",
    "\n",
    "# Split data into train/test\n",
    "X_train, X_test, y_train, y_test = train_test_split(X, y, test_size=0.3, random_state=42)\n",
    "\n",
    "# Initialize Bagging Classifier with Decision Trees\n",
    "bagging_clf = BaggingClassifier(base_estimator=DecisionTreeClassifier(), n_estimators=50, random_state=42)\n",
    "\n",
    "# Train the model\n",
    "bagging_clf.fit(X_train, y_train)\n",
    "\n",
    "# Predict on test set\n",
    "y_pred = bagging_clf.predict(X_test)\n",
    "\n",
    "# Evaluate metrics\n",
    "precision = precision_score(y_test, y_pred)\n",
    "recall = recall_score(y_test, y_pred)\n",
    "f1 = f1_score(y_test, y_pred)\n",
    "\n",
    "print(f\"Precision: {precision:.4f}\")\n",
    "print(f\"Recall:    {recall:.4f}\")\n",
    "print(f\"F1-score:  {f1:.4f}\")\n"
   ]
  },
  {
   "cell_type": "code",
   "execution_count": 18,
   "metadata": {},
   "outputs": [
    {
     "data": {
      "image/png": "[encoded data removed]",
      "text/plain": [
       "<Figure size 576x360 with 1 Axes>"
      ]
     },
     "metadata": {
      "needs_background": "light"
     },
     "output_type": "display_data"
    }
   ],
   "source": [
    "# Train a Random Forest Classifier and analyze the effect of max_depth on accuracy.\n",
    "import matplotlib.pyplot as plt\n",
    "from sklearn.datasets import load_breast_cancer\n",
    "from sklearn.model_selection import train_test_split\n",
    "from sklearn.ensemble import RandomForestClassifier\n",
    "from sklearn.metrics import accuracy_score\n",
    "\n",
    "# Load dataset\n",
    "data = load_breast_cancer()\n",
    "X, y = data.data, data.target\n",
    "\n",
    "# Split data\n",
    "X_train, X_test, y_train, y_test = train_test_split(X, y, test_size=0.3, random_state=42)\n",
    "\n",
    "# Try different max_depth values\n",
    "max_depth_values = list(range(1, 21))  # from 1 to 20\n",
    "accuracies = []\n",
    "\n",
    "for depth in max_depth_values:\n",
    "    rf = RandomForestClassifier(max_depth=depth, n_estimators=100, random_state=42)\n",
    "    rf.fit(X_train, y_train)\n",
    "    y_pred = rf.predict(X_test)\n",
    "    acc = accuracy_score(y_test, y_pred)\n",
    "    accuracies.append(acc)\n",
    "\n",
    "# Plot the results\n",
    "plt.figure(figsize=(8,5))\n",
    "plt.plot(max_depth_values, accuracies, marker='o')\n",
    "plt.title(\"Effect of max_depth on Random Forest Accuracy\")\n",
    "plt.xlabel(\"max_depth\")\n",
    "plt.ylabel(\"Test Accuracy\")\n",
    "plt.grid(True)\n",
    "plt.show()\n"
   ]
  },
  {
   "cell_type": "code",
   "execution_count": 19,
   "metadata": {},
   "outputs": [
    {
     "name": "stdout",
     "output_type": "stream",
     "text": [
      "Base Estimator     | Test MSE\n",
      "-------------------|---------\n",
      "Decision Tree      | 0.2572\n",
      "K-Neighbors        | 1.1021\n"
     ]
    }
   ],
   "source": [
    "# Train a Bagging Regressor using different base estimators (DecisionTree and KNeighbors) and compare performance.\n",
    "from sklearn.datasets import fetch_california_housing\n",
    "from sklearn.model_selection import train_test_split\n",
    "from sklearn.ensemble import BaggingRegressor\n",
    "from sklearn.tree import DecisionTreeRegressor\n",
    "from sklearn.neighbors import KNeighborsRegressor\n",
    "from sklearn.metrics import mean_squared_error\n",
    "\n",
    "# Load dataset\n",
    "data = fetch_california_housing()\n",
    "X, y = data.data, data.target\n",
    "\n",
    "# Split dataset\n",
    "X_train, X_test, y_train, y_test = train_test_split(X, y, test_size=0.3, random_state=42)\n",
    "\n",
    "# Base estimators to compare\n",
    "base_estimators = {\n",
    "    \"Decision Tree\": DecisionTreeRegressor(),\n",
    "    \"K-Neighbors\": KNeighborsRegressor()\n",
    "}\n",
    "\n",
    "print(\"Base Estimator     | Test MSE\")\n",
    "print(\"-------------------|---------\")\n",
    "\n",
    "for name, base_estimator in base_estimators.items():\n",
    "    bagging_reg = BaggingRegressor(\n",
    "        base_estimator=base_estimator,\n",
    "        n_estimators=50,\n",
    "        random_state=42\n",
    "    )\n",
    "    bagging_reg.fit(X_train, y_train)\n",
    "    y_pred = bagging_reg.predict(X_test)\n",
    "    mse = mean_squared_error(y_test, y_pred)\n",
    "    print(f\"{name:<18} | {mse:.4f}\")\n"
   ]
  },
  {
   "cell_type": "code",
   "execution_count": 20,
   "metadata": {},
   "outputs": [
    {
     "name": "stdout",
     "output_type": "stream",
     "text": [
      "ROC-AUC Score: 0.9968\n"
     ]
    }
   ],
   "source": [
    "# Train a Random Forest Classifier and evaluate its performance using ROC-AUC Score.\n",
    "from sklearn.datasets import load_breast_cancer\n",
    "from sklearn.model_selection import train_test_split\n",
    "from sklearn.ensemble import RandomForestClassifier\n",
    "from sklearn.metrics import roc_auc_score\n",
    "\n",
    "# Load dataset\n",
    "data = load_breast_cancer()\n",
    "X, y = data.data, data.target\n",
    "\n",
    "# Split dataset\n",
    "X_train, X_test, y_train, y_test = train_test_split(X, y, test_size=0.3, random_state=42)\n",
    "\n",
    "# Train Random Forest Classifier\n",
    "rf = RandomForestClassifier(n_estimators=100, random_state=42)\n",
    "rf.fit(X_train, y_train)\n",
    "\n",
    "# Predict probabilities for positive class\n",
    "y_prob = rf.predict_proba(X_test)[:, 1]\n",
    "\n",
    "# Calculate ROC-AUC score\n",
    "roc_auc = roc_auc_score(y_test, y_prob)\n",
    "print(f\"ROC-AUC Score: {roc_auc:.4f}\")\n"
   ]
  },
  {
   "cell_type": "code",
   "execution_count": 21,
   "metadata": {},
   "outputs": [
    {
     "name": "stdout",
     "output_type": "stream",
     "text": [
      "Cross-Validation Accuracies: [0.9122807  0.92105263 0.98245614 0.95614035 1.        ]\n",
      "Mean CV Accuracy: 0.9544\n",
      "Standard Deviation: 0.0339\n"
     ]
    }
   ],
   "source": [
    "# Train a Bagging Classifier and evaluate its performance using cross-validation.\n",
    "from sklearn.datasets import load_breast_cancer\n",
    "from sklearn.ensemble import BaggingClassifier\n",
    "from sklearn.tree import DecisionTreeClassifier\n",
    "from sklearn.model_selection import cross_val_score\n",
    "\n",
    "# Load dataset\n",
    "data = load_breast_cancer()\n",
    "X, y = data.data, data.target\n",
    "\n",
    "# Initialize Bagging Classifier\n",
    "bagging_clf = BaggingClassifier(\n",
    "    base_estimator=DecisionTreeClassifier(),\n",
    "    n_estimators=50,\n",
    "    random_state=42\n",
    ")\n",
    "\n",
    "# Evaluate with 5-fold cross-validation\n",
    "cv_scores = cross_val_score(bagging_clf, X, y, cv=5, scoring='accuracy', n_jobs=-1)\n",
    "\n",
    "print(f\"Cross-Validation Accuracies: {cv_scores}\")\n",
    "print(f\"Mean CV Accuracy: {cv_scores.mean():.4f}\")\n",
    "print(f\"Standard Deviation: {cv_scores.std():.4f}\")\n"
   ]
  },
  {
   "cell_type": "code",
   "execution_count": 22,
   "metadata": {},
   "outputs": [
    {
     "data": {
      "image/png": "[encoded data removed]",
      "text/plain": [
       "<Figure size 576x432 with 1 Axes>"
      ]
     },
     "metadata": {
      "needs_background": "light"
     },
     "output_type": "display_data"
    }
   ],
   "source": [
    "# Train a Random Forest Classifier and plot the Precision-Recall curve.\n",
    "import matplotlib.pyplot as plt\n",
    "from sklearn.datasets import load_breast_cancer\n",
    "from sklearn.model_selection import train_test_split\n",
    "from sklearn.ensemble import RandomForestClassifier\n",
    "from sklearn.metrics import precision_recall_curve, average_precision_score\n",
    "\n",
    "# Load dataset\n",
    "data = load_breast_cancer()\n",
    "X, y = data.data, data.target\n",
    "\n",
    "# Split dataset\n",
    "X_train, X_test, y_train, y_test = train_test_split(X, y, test_size=0.3, random_state=42)\n",
    "\n",
    "# Train Random Forest Classifier\n",
    "rf = RandomForestClassifier(n_estimators=100, random_state=42)\n",
    "rf.fit(X_train, y_train)\n",
    "\n",
    "# Predict probabilities for positive class\n",
    "y_scores = rf.predict_proba(X_test)[:, 1]\n",
    "\n",
    "# Compute Precision-Recall curve\n",
    "precision, recall, thresholds = precision_recall_curve(y_test, y_scores)\n",
    "\n",
    "# Compute average precision score\n",
    "avg_precision = average_precision_score(y_test, y_scores)\n",
    "\n",
    "# Plot Precision-Recall curve\n",
    "plt.figure(figsize=(8,6))\n",
    "plt.plot(recall, precision, label=f'Random Forest (AP={avg_precision:.3f})')\n",
    "plt.xlabel('Recall')\n",
    "plt.ylabel('Precision')\n",
    "plt.title('Precision-Recall Curve')\n",
    "plt.legend()\n",
    "plt.grid(True)\n",
    "plt.show()\n"
   ]
  },
  {
   "cell_type": "code",
   "execution_count": 26,
   "metadata": {},
   "outputs": [
    {
     "name": "stdout",
     "output_type": "stream",
     "text": [
      "Random Forest Accuracy:       0.9708\n",
      "Logistic Regression Accuracy: 0.9649\n",
      "Stacking Classifier Accuracy: 0.9708\n"
     ]
    }
   ],
   "source": [
    "# Train a Stacking Classifier with Random Forest and Logistic Regression and compare accuracy.\n",
    "from sklearn.datasets import load_breast_cancer\n",
    "from sklearn.model_selection import train_test_split\n",
    "from sklearn.ensemble import RandomForestClassifier, StackingClassifier\n",
    "from sklearn.linear_model import LogisticRegression\n",
    "from sklearn.metrics import accuracy_score\n",
    "\n",
    "import warnings\n",
    "from sklearn.exceptions import ConvergenceWarning\n",
    "\n",
    "# Suppress convergence warnings\n",
    "warnings.filterwarnings(\"ignore\", category=ConvergenceWarning)\n",
    "\n",
    "\n",
    "# Load data\n",
    "data = load_breast_cancer()\n",
    "X, y = data.data, data.target\n",
    "\n",
    "\n",
    "# Split train/test\n",
    "X_train, X_test, y_train, y_test = train_test_split(X, y, test_size=0.3, random_state=42)\n",
    "\n",
    "# Base models\n",
    "rf_clf = RandomForestClassifier(n_estimators=100, random_state=42)\n",
    "lr_clf = LogisticRegression(max_iter=1000, random_state=42)\n",
    "\n",
    "# Stacking Classifier with Logistic Regression as final estimator\n",
    "stack_clf = StackingClassifier(\n",
    "    estimators=[('rf', rf_clf), ('lr', lr_clf)],\n",
    "    final_estimator=LogisticRegression(max_iter=1000, random_state=42)\n",
    ")\n",
    "\n",
    "# Train individual base models\n",
    "rf_clf.fit(X_train, y_train)\n",
    "lr_clf.fit(X_train, y_train)\n",
    "\n",
    "# Train stacking model\n",
    "stack_clf.fit(X_train, y_train)\n",
    "\n",
    "# Predictions\n",
    "y_pred_rf = rf_clf.predict(X_test)\n",
    "y_pred_lr = lr_clf.predict(X_test)\n",
    "y_pred_stack = stack_clf.predict(X_test)\n",
    "\n",
    "# Accuracy scores\n",
    "acc_rf = accuracy_score(y_test, y_pred_rf)\n",
    "acc_lr = accuracy_score(y_test, y_pred_lr)\n",
    "acc_stack = accuracy_score(y_test, y_pred_stack)\n",
    "\n",
    "print(f\"Random Forest Accuracy:       {acc_rf:.4f}\")\n",
    "print(f\"Logistic Regression Accuracy: {acc_lr:.4f}\")\n",
    "print(f\"Stacking Classifier Accuracy: {acc_stack:.4f}\")\n"
   ]
  },
  {
   "cell_type": "code",
   "execution_count": 25,
   "metadata": {},
   "outputs": [
    {
     "name": "stdout",
     "output_type": "stream",
     "text": [
      "max_samples=0.3: MSE = 0.2816\n",
      "max_samples=0.5: MSE = 0.2630\n",
      "max_samples=0.7: MSE = 0.2627\n",
      "max_samples=1.0: MSE = 0.2572\n"
     ]
    },
    {
     "data": {
      "image/png": "[encoded data removed]",
      "text/plain": [
       "<Figure size 576x360 with 1 Axes>"
      ]
     },
     "metadata": {
      "needs_background": "light"
     },
     "output_type": "display_data"
    }
   ],
   "source": [
    "# Train a Bagging Regressor with different levels of bootstrap samples and compare performance.\n",
    "import numpy as np\n",
    "from sklearn.datasets import fetch_california_housing\n",
    "from sklearn.model_selection import train_test_split\n",
    "from sklearn.ensemble import BaggingRegressor\n",
    "from sklearn.tree import DecisionTreeRegressor\n",
    "from sklearn.metrics import mean_squared_error\n",
    "import matplotlib.pyplot as plt\n",
    "\n",
    "# Load dataset\n",
    "data = fetch_california_housing()\n",
    "X, y = data.data, data.target\n",
    "\n",
    "# Split data\n",
    "X_train, X_test, y_train, y_test = train_test_split(X, y, test_size=0.3, random_state=42)\n",
    "\n",
    "# Different bootstrap sample fractions\n",
    "sample_fractions = [0.3, 0.5, 0.7, 1.0]\n",
    "mse_scores = []\n",
    "\n",
    "for frac in sample_fractions:\n",
    "    model = BaggingRegressor(\n",
    "        base_estimator=DecisionTreeRegressor(),\n",
    "        n_estimators=50,\n",
    "        max_samples=frac,\n",
    "        bootstrap=True,\n",
    "        random_state=42\n",
    "    )\n",
    "    model.fit(X_train, y_train)\n",
    "    y_pred = model.predict(X_test)\n",
    "    mse = mean_squared_error(y_test, y_pred)\n",
    "    mse_scores.append(mse)\n",
    "    print(f\"max_samples={frac}: MSE = {mse:.4f}\")\n",
    "\n",
    "# Plot results\n",
    "plt.figure(figsize=(8, 5))\n",
    "plt.plot(sample_fractions, mse_scores, marker='o')\n",
    "plt.xlabel('max_samples (fraction of training data)')\n",
    "plt.ylabel('Mean Squared Error')\n",
    "plt.title('Effect of Bootstrap Sample Size on Bagging Regressor Performance')\n",
    "plt.grid(True)\n",
    "plt.show()\n"
   ]
  },
  {
   "cell_type": "markdown",
   "metadata": {},
   "source": [
    "--- The_End---"
   ]
  }
 ],
 "metadata": {
  "kernelspec": {
   "display_name": "Python 3",
   "language": "python",
   "name": "python3"
  },
  "language_info": {
   "codemirror_mode": {
    "name": "ipython",
    "version": 3
   },
   "file_extension": ".py",
   "mimetype": "text/x-python",
   "name": "python",
   "nbconvert_exporter": "python",
   "pygments_lexer": "ipython3",
   "version": "3.8.5"
  }
 },
 "nbformat": 4,
 "nbformat_minor": 4
}
